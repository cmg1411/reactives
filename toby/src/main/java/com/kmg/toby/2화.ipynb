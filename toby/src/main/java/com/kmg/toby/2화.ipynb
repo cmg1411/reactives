{
 "cells": [
  {
   "cell_type": "code",
   "metadata": {
    "collapsed": true,
    "ExecuteTime": {
     "end_time": "2025-06-10T11:38:20.367772Z",
     "start_time": "2025-06-10T11:38:19.284356Z"
    }
   },
   "source": [
    "fun iterPub(iter: Iterable<Int>) = Publisher<Int> { subscriber ->\n",
    "    subscriber.onSubscribe(object : Subscription {\n",
    "        override fun request(n: Long) {\n",
    "            iter.forEach { subscriber.onNext(it) }\n",
    "            subscriber.onComplete()\n",
    "        }\n",
    "\n",
    "        override fun cancel() {\n",
    "        }\n",
    "    })\n",
    "}\n",
    "\n",
    "fun logSub() = object : Subscriber<Int> {\n",
    "    override fun onSubscribe(subscription: Subscription) {\n",
    "        println(\"onSubscribe\")\n",
    "        subscription.request(Long.MAX_VALUE)\n",
    "    }\n",
    "\n",
    "    override fun onNext(item: Int) {\n",
    "        println(\"onNext : $item\")\n",
    "    }\n",
    "\n",
    "    override fun onComplete() = println(\"onComplete\")\n",
    "    override fun onError(throwable: Throwable) = println(\"onError : $throwable\")\n",
    "}\n",
    "\n",
    "// iterPub -> data1 -> logSub\n",
    "val iterPub = iterPub(generateSequence(1) { it + 1 }.take(10).toList())\n",
    "val logSub = logSub()\n",
    "\n",
    "iterPub.subscribe(logSub)"
   ],
   "outputs": [
    {
     "ename": "org.jetbrains.kotlinx.jupyter.exceptions.ReplCompilerException",
     "evalue": "at Cell In[1], line 1, column 36: Unresolved reference: Publisher\nat Cell In[1], line 1, column 53: Cannot infer a type for this parameter. Please specify it explicitly.\nat Cell In[1], line 2, column 37: Unresolved reference: Subscription\nat Cell In[1], line 3, column 9: 'request' overrides nothing\nat Cell In[1], line 8, column 9: 'cancel' overrides nothing\nat Cell In[1], line 13, column 25: Unresolved reference: Subscriber\nat Cell In[1], line 14, column 5: 'onSubscribe' overrides nothing\nat Cell In[1], line 14, column 44: Unresolved reference: Subscription\nat Cell In[1], line 19, column 5: 'onNext' overrides nothing\nat Cell In[1], line 23, column 5: 'onComplete' overrides nothing\nat Cell In[1], line 24, column 5: 'onError' overrides nothing",
     "output_type": "error",
     "traceback": [
      "org.jetbrains.kotlinx.jupyter.exceptions.ReplCompilerException: at Cell In[1], line 1, column 36: Unresolved reference: Publisher",
      "at Cell In[1], line 1, column 53: Cannot infer a type for this parameter. Please specify it explicitly.",
      "at Cell In[1], line 2, column 37: Unresolved reference: Subscription",
      "at Cell In[1], line 3, column 9: 'request' overrides nothing",
      "at Cell In[1], line 8, column 9: 'cancel' overrides nothing",
      "at Cell In[1], line 13, column 25: Unresolved reference: Subscriber",
      "at Cell In[1], line 14, column 5: 'onSubscribe' overrides nothing",
      "at Cell In[1], line 14, column 44: Unresolved reference: Subscription",
      "at Cell In[1], line 19, column 5: 'onNext' overrides nothing",
      "at Cell In[1], line 23, column 5: 'onComplete' overrides nothing",
      "at Cell In[1], line 24, column 5: 'onError' overrides nothing",
      "\tat org.jetbrains.kotlinx.jupyter.repl.impl.JupyterCompilerImpl.compileSync(JupyterCompilerImpl.kt:208)",
      "\tat org.jetbrains.kotlinx.jupyter.repl.impl.InternalEvaluatorImpl.eval(InternalEvaluatorImpl.kt:126)",
      "\tat org.jetbrains.kotlinx.jupyter.repl.impl.CellExecutorImpl$execute$1$result$1.invoke(CellExecutorImpl.kt:80)",
      "\tat org.jetbrains.kotlinx.jupyter.repl.impl.CellExecutorImpl$execute$1$result$1.invoke(CellExecutorImpl.kt:78)",
      "\tat org.jetbrains.kotlinx.jupyter.repl.impl.ReplForJupyterImpl.withHost(ReplForJupyterImpl.kt:742)",
      "\tat org.jetbrains.kotlinx.jupyter.repl.impl.CellExecutorImpl.execute-L4Nmkdk(CellExecutorImpl.kt:78)",
      "\tat org.jetbrains.kotlinx.jupyter.repl.execution.CellExecutor$DefaultImpls.execute-L4Nmkdk$default(CellExecutor.kt:13)",
      "\tat org.jetbrains.kotlinx.jupyter.repl.impl.ReplForJupyterImpl.evaluateUserCode-wNURfNM(ReplForJupyterImpl.kt:565)",
      "\tat org.jetbrains.kotlinx.jupyter.repl.impl.ReplForJupyterImpl.evalExImpl(ReplForJupyterImpl.kt:423)",
      "\tat org.jetbrains.kotlinx.jupyter.repl.impl.ReplForJupyterImpl.access$evalExImpl(ReplForJupyterImpl.kt:139)",
      "\tat org.jetbrains.kotlinx.jupyter.repl.impl.ReplForJupyterImpl$evalEx$1.invoke(ReplForJupyterImpl.kt:416)",
      "\tat org.jetbrains.kotlinx.jupyter.repl.impl.ReplForJupyterImpl$evalEx$1.invoke(ReplForJupyterImpl.kt:415)",
      "\tat org.jetbrains.kotlinx.jupyter.repl.impl.ReplForJupyterImpl.withEvalContext(ReplForJupyterImpl.kt:396)",
      "\tat org.jetbrains.kotlinx.jupyter.repl.impl.ReplForJupyterImpl.evalEx(ReplForJupyterImpl.kt:415)",
      "\tat org.jetbrains.kotlinx.jupyter.messaging.IdeCompatibleMessageRequestProcessor$processExecuteRequest$1$response$1$1.invoke(IdeCompatibleMessageRequestProcessor.kt:170)",
      "\tat org.jetbrains.kotlinx.jupyter.messaging.IdeCompatibleMessageRequestProcessor$processExecuteRequest$1$response$1$1.invoke(IdeCompatibleMessageRequestProcessor.kt:169)",
      "\tat org.jetbrains.kotlinx.jupyter.streams.BlockingSubstitutionEngine.withDataSubstitution(SubstitutionEngine.kt:70)",
      "\tat org.jetbrains.kotlinx.jupyter.streams.StreamSubstitutionManager.withSubstitutedStreams(StreamSubstitutionManager.kt:118)",
      "\tat org.jetbrains.kotlinx.jupyter.messaging.IdeCompatibleMessageRequestProcessor.withForkedIn(IdeCompatibleMessageRequestProcessor.kt:342)",
      "\tat org.jetbrains.kotlinx.jupyter.messaging.IdeCompatibleMessageRequestProcessor.access$withForkedIn(IdeCompatibleMessageRequestProcessor.kt:66)",
      "\tat org.jetbrains.kotlinx.jupyter.messaging.IdeCompatibleMessageRequestProcessor$evalWithIO$1$1.invoke(IdeCompatibleMessageRequestProcessor.kt:356)",
      "\tat org.jetbrains.kotlinx.jupyter.streams.BlockingSubstitutionEngine.withDataSubstitution(SubstitutionEngine.kt:70)",
      "\tat org.jetbrains.kotlinx.jupyter.streams.StreamSubstitutionManager.withSubstitutedStreams(StreamSubstitutionManager.kt:118)",
      "\tat org.jetbrains.kotlinx.jupyter.messaging.IdeCompatibleMessageRequestProcessor.withForkedErr(IdeCompatibleMessageRequestProcessor.kt:331)",
      "\tat org.jetbrains.kotlinx.jupyter.messaging.IdeCompatibleMessageRequestProcessor.access$withForkedErr(IdeCompatibleMessageRequestProcessor.kt:66)",
      "\tat org.jetbrains.kotlinx.jupyter.messaging.IdeCompatibleMessageRequestProcessor$evalWithIO$1.invoke(IdeCompatibleMessageRequestProcessor.kt:355)",
      "\tat org.jetbrains.kotlinx.jupyter.streams.BlockingSubstitutionEngine.withDataSubstitution(SubstitutionEngine.kt:70)",
      "\tat org.jetbrains.kotlinx.jupyter.streams.StreamSubstitutionManager.withSubstitutedStreams(StreamSubstitutionManager.kt:118)",
      "\tat org.jetbrains.kotlinx.jupyter.messaging.IdeCompatibleMessageRequestProcessor.withForkedOut(IdeCompatibleMessageRequestProcessor.kt:323)",
      "\tat org.jetbrains.kotlinx.jupyter.messaging.IdeCompatibleMessageRequestProcessor.evalWithIO(IdeCompatibleMessageRequestProcessor.kt:354)",
      "\tat org.jetbrains.kotlinx.jupyter.messaging.IdeCompatibleMessageRequestProcessor$processExecuteRequest$1$response$1.invoke(IdeCompatibleMessageRequestProcessor.kt:169)",
      "\tat org.jetbrains.kotlinx.jupyter.messaging.IdeCompatibleMessageRequestProcessor$processExecuteRequest$1$response$1.invoke(IdeCompatibleMessageRequestProcessor.kt:168)",
      "\tat org.jetbrains.kotlinx.jupyter.execution.JupyterExecutorImpl$Task.execute(JupyterExecutorImpl.kt:41)",
      "\tat org.jetbrains.kotlinx.jupyter.execution.JupyterExecutorImpl$executorThread$1.invoke(JupyterExecutorImpl.kt:81)",
      "\tat org.jetbrains.kotlinx.jupyter.execution.JupyterExecutorImpl$executorThread$1.invoke(JupyterExecutorImpl.kt:79)",
      "\tat kotlin.concurrent.ThreadsKt$thread$thread$1.run(Thread.kt:30)",
      ""
     ]
    }
   ],
   "execution_count": 1
  },
  {
   "cell_type": "code",
   "execution_count": 67,
   "outputs": [
    {
     "name": "stdout",
     "output_type": "stream",
     "text": [
      "onSubscribe\n",
      "onNext : -10\n",
      "onNext : -20\n",
      "onNext : -30\n",
      "onNext : -40\n",
      "onNext : -50\n",
      "onNext : -60\n",
      "onNext : -70\n",
      "onNext : -80\n",
      "onNext : -90\n",
      "onNext : -100\n",
      "onComplete\n"
     ]
    }
   ],
   "source": [
    "fun mapPub(pub: Publisher<Int>, op: (Int) -> Int) = Publisher<Int> { sub ->  \n",
    "    pub.subscribe(\n",
    "        object : Subscriber<Int> {\n",
    "            override fun onSubscribe(subscription: Subscription) = sub.onSubscribe(subscription)\n",
    "            override fun onNext(item: Int) = sub.onNext(op(item))\n",
    "            override fun onComplete() = sub.onComplete()\n",
    "            override fun onError(throwable: Throwable) = sub.onError(throwable)\n",
    "        }\n",
    "    )\n",
    " }\n",
    " \n",
    "// iterPub -> data1 -> mapPub -> data2 -> logSub\n",
    "// mapPub 은 iterPub 입장에서는 Subscriber, logSub 입장에선 mapPub.\n",
    "// 따라서 mapPub 은 subscribe 하는 기능도 필요하다.\n",
    "val iterPub = iterPub(generateSequence(1) { it + 1 }.take(10).toList())\n",
    "val mapMultiPub = mapPub(iterPub) { it * 10 }\n",
    "val mapNegativePub = mapPub(mapMultiPub) { -it }\n",
    "val logSub = logSub()\n",
    "\n",
    "mapNegativePub.subscribe(logSub)"
   ],
   "metadata": {
    "collapsed": false,
    "ExecuteTime": {
     "end_time": "2023-09-17T10:29:03.528299Z",
     "start_time": "2023-09-17T10:29:03.462385Z"
    }
   }
  },
  {
   "cell_type": "code",
   "execution_count": 70,
   "outputs": [],
   "source": [
    "// adaptor 패턴. 원하는 것만 오버라이드 할 수 있는 Delegate 클래스.\n",
    "open class DelegateSub(\n",
    "    private val sub: Subscriber<in Int>\n",
    ") : Subscriber<Int> {\n",
    "    override fun onSubscribe(subscription: Subscription) {\n",
    "        sub.onSubscribe(subscription)\n",
    "    }\n",
    "\n",
    "    override fun onNext(item: Int) {\n",
    "        sub.onNext(item)\n",
    "    }\n",
    "    \n",
    "    override fun onComplete() {\n",
    "        sub.onComplete()\n",
    "    }\n",
    "    \n",
    "    override fun onError(throwable: Throwable) {\n",
    "        sub.onError(throwable)\n",
    "    }\n",
    "}"
   ],
   "metadata": {
    "collapsed": false,
    "ExecuteTime": {
     "end_time": "2023-09-17T10:29:14.787151Z",
     "start_time": "2023-09-17T10:29:14.750958Z"
    }
   }
  },
  {
   "cell_type": "code",
   "execution_count": 71,
   "outputs": [
    {
     "name": "stdout",
     "output_type": "stream",
     "text": [
      "onSubscribe\n",
      "onNext : 2\n",
      "onNext : 3\n",
      "onNext : 4\n",
      "onNext : 5\n",
      "onNext : 6\n",
      "onNext : 7\n",
      "onNext : 8\n",
      "onNext : 9\n",
      "onNext : 10\n",
      "onNext : 11\n",
      "onComplete\n"
     ]
    }
   ],
   "source": [
    "fun mapPubRefactoring(upstreamPub: Publisher<Int>, op: (Int) -> Int) = Publisher<Int> { sub ->  \n",
    "    upstreamPub.subscribe(\n",
    "        object : DelegateSub(sub) { override fun onNext(item: Int) = sub.onNext(op(item)) }\n",
    "    )\n",
    " }\n",
    " \n",
    "val plusOnePub = mapPubRefactoring(iterPub) { it + 1 }\n",
    "val logSub = logSub()\n",
    "\n",
    "plusOnePub.subscribe(logSub)"
   ],
   "metadata": {
    "collapsed": false,
    "ExecuteTime": {
     "end_time": "2023-09-17T10:29:14.979541Z",
     "start_time": "2023-09-17T10:29:14.933146Z"
    }
   }
  },
  {
   "cell_type": "code",
   "execution_count": 72,
   "outputs": [
    {
     "name": "stdout",
     "output_type": "stream",
     "text": [
      "onSubscribe\n",
      "onNext : 55\n",
      "onComplete\n"
     ]
    }
   ],
   "source": [
    "// 합계를 구하는 operator Publisher\n",
    "fun sumPub(upstreamPub: Publisher<Int>) = object : Publisher<Int> {\n",
    "    \n",
    "    // 이 sumPub 에 subscriber 를 subscribe 하면\n",
    "    override fun subscribe(subscriber: Subscriber<in Int>) {\n",
    "        // 인자로 받은 upstreamPub 의 subscribe() 에 downStream 의 subscriber 를 연결시키면서\n",
    "        // 중간에 연산을 추가한다.\n",
    "        upstreamPub.subscribe(object : DelegateSub(sub) {\n",
    "            private var sum = 0\n",
    "            \n",
    "            override fun onNext(item: Int) {\n",
    "                sum += item // iterPub 의 onNext 가 불렸을 때 \n",
    "            }\n",
    "\n",
    "            override fun onComplete() {\n",
    "                sub.onNext(sum)\n",
    "                sub.onComplete()\n",
    "            }\n",
    "        })\n",
    "    }\n",
    "}\n",
    "\n",
    "val sumPub = sumPub(iterPub)\n",
    "val logSub = logSub()\n",
    "\n",
    "sumPub.subscribe(logSub)"
   ],
   "metadata": {
    "collapsed": false,
    "ExecuteTime": {
     "end_time": "2023-09-17T10:29:15.618714Z",
     "start_time": "2023-09-17T10:29:15.560281Z"
    }
   }
  },
  {
   "cell_type": "code",
   "execution_count": 79,
   "outputs": [
    {
     "name": "stdout",
     "output_type": "stream",
     "text": [
      "onSubscribe\n",
      "onNext : 36288000\n",
      "onComplete\n"
     ]
    }
   ],
   "source": [
    "// reduce operator Publisher\n",
    "fun reducePub(upstreamPub: Publisher<Int>, init: Int, op: (x: Int, y: Int) -> Int) = object : Publisher<Int> {\n",
    "\n",
    "    override fun subscribe(subscriber: Subscriber<in Int>) {\n",
    "        upstreamPub.subscribe(object : DelegateSub(subscriber) {\n",
    "            private var result = init\n",
    "            \n",
    "            override fun onNext(item: Int) {\n",
    "                result = op(result, item)\n",
    "            }\n",
    "\n",
    "            override fun onComplete() {\n",
    "                subscriber.onNext(result)\n",
    "                subscriber.onComplete()\n",
    "            }\n",
    "        })\n",
    "    }\n",
    "}\n",
    "\n",
    "val reducePub = reducePub(iterPub, 10) { x, y -> x * y }\n",
    "val logSub = logSub()\n",
    "\n",
    "reducePub.subscribe(logSub)"
   ],
   "metadata": {
    "collapsed": false,
    "ExecuteTime": {
     "end_time": "2023-09-17T10:35:29.884575Z",
     "start_time": "2023-09-17T10:35:29.826315Z"
    }
   }
  },
  {
   "cell_type": "code",
   "execution_count": 88,
   "outputs": [
    {
     "name": "stdout",
     "output_type": "stream",
     "text": [
      "onSubscribe\n",
      "onNext : aappend\n",
      "onNext : bappend\n",
      "onNext : cappend\n",
      "onNext : dappend\n",
      "onComplete\n"
     ]
    }
   ],
   "source": [
    "// 범용적 Generic mapPub\n",
    "open class GenericDelegateSub<T>(\n",
    "    private val sub: Subscriber<in T>\n",
    ") : Subscriber<T> {\n",
    "    override fun onSubscribe(subscription: Subscription) {\n",
    "        sub.onSubscribe(subscription)\n",
    "    }\n",
    "\n",
    "    override fun onNext(item: T) {\n",
    "        sub.onNext(item)\n",
    "    }\n",
    "    \n",
    "    override fun onComplete() {\n",
    "        sub.onComplete()\n",
    "    }\n",
    "    \n",
    "    override fun onError(throwable: Throwable) {\n",
    "        sub.onError(throwable)\n",
    "    }\n",
    "}\n",
    "\n",
    "fun <T> iterPubGeneric(iterable: Iterable<T>) = object : Publisher<T> {\n",
    "    override fun subscribe(subscriber: Subscriber<in T>) {\n",
    "        subscriber.onSubscribe(object : Subscription {\n",
    "            override fun request(n: Long) {\n",
    "                iterable.forEach { subscriber.onNext(it) }\n",
    "                subscriber.onComplete()\n",
    "            }\n",
    "\n",
    "            override fun cancel() {}\n",
    "        })\n",
    "    }\n",
    "}\n",
    "\n",
    "fun <T> mapPubRefactoringGeneric(upstreamPub: Publisher<T>, op: (T) -> T) = Publisher<T> { sub ->  \n",
    "    upstreamPub.subscribe(object : GenericDelegateSub<T>(sub) { override fun onNext(item: T) = sub.onNext(op(item)) })\n",
    "}\n",
    "\n",
    "fun <T> logSubGeneric() = object : Subscriber<T> {\n",
    "    override fun onSubscribe(subscription: Subscription) {\n",
    "        println(\"onSubscribe\")\n",
    "        subscription.request(Long.MAX_VALUE)\n",
    "    }\n",
    "\n",
    "    override fun onNext(item: T) = println(\"onNext : $item\")\n",
    "    override fun onError(throwable: Throwable) = println(\"onError\")\n",
    "    override fun onComplete() = println(\"onComplete\")\n",
    "}\n",
    "\n",
    "val stringIterPub = iterPubGeneric(listOf(\"a\", \"b\", \"c\", \"d\"))\n",
    "val stringMapPub = mapPubRefactoringGeneric(stringIterPub) { it + \"append\" }\n",
    "val logSubGeneric = logSubGeneric<String>()\n",
    "\n",
    "stringMapPub.subscribe(logSubGeneric)"
   ],
   "metadata": {
    "collapsed": false,
    "ExecuteTime": {
     "end_time": "2023-09-17T10:50:04.584376Z",
     "start_time": "2023-09-17T10:50:04.481677Z"
    }
   }
  },
  {
   "cell_type": "code",
   "execution_count": 98,
   "outputs": [
    {
     "name": "stdout",
     "output_type": "stream",
     "text": [
      "onSubscribe\n",
      "onNext : [1]\n",
      "onNext : [2]\n",
      "onNext : [3]\n",
      "onNext : [4]\n",
      "onNext : [5]\n",
      "onNext : [6]\n",
      "onNext : [7]\n",
      "onNext : [8]\n",
      "onNext : [9]\n",
      "onNext : [10]\n",
      "onComplete\n"
     ]
    }
   ],
   "source": [
    "// 범용적 T -> R 타입변환 Generic mapPub\n",
    "open class GenericTwoDelegateSub<T,R>(\n",
    "    private val sub: Subscriber<in R>\n",
    ") : Subscriber<T> {\n",
    "    override fun onSubscribe(subscription: Subscription) {\n",
    "        sub.onSubscribe(subscription)\n",
    "    }\n",
    "\n",
    "    override fun onNext(item: T) {\n",
    "        sub.onNext(item as R)\n",
    "    }\n",
    "    \n",
    "    override fun onComplete() {\n",
    "        sub.onComplete()\n",
    "    }\n",
    "    \n",
    "    override fun onError(throwable: Throwable) {\n",
    "        sub.onError(throwable)\n",
    "    }\n",
    "}\n",
    "\n",
    "fun <T,R> mapPubRefactoringGenericTypeChange(upstreamPub: Publisher<T>, op: (T) -> R) = Publisher<R> { sub ->  \n",
    "    upstreamPub.subscribe(object : GenericTwoDelegateSub<T,R>(sub) { override fun onNext(item: T) = sub.onNext(op(item)) })\n",
    "}\n",
    "\n",
    "val stringMapPub = mapPubRefactoringGenericTypeChange(iterPub) { \"[$it]\" }\n",
    "val logSubGeneric = logSubGeneric<String>()\n",
    "\n",
    "stringMapPub.subscribe(logSubGeneric)"
   ],
   "metadata": {
    "collapsed": false,
    "ExecuteTime": {
     "end_time": "2023-09-17T11:29:49.566395Z",
     "start_time": "2023-09-17T11:29:49.495457Z"
    }
   }
  },
  {
   "cell_type": "code",
   "execution_count": null,
   "outputs": [],
   "source": [
    "/**\n",
    "* Flux : Publisher 인터페이스를 구현한 퍼블리셔\n",
    "* emitter\n",
    "* subscribe: nextOn() 한번에 대한 subscribe 메서드\n",
    "*/\n",
    "\n",
    "import reactor.core.publisher.Flux\n",
    "\n",
    "Flux.create { t ->\n",
    "    t.next(1)\n",
    "    t.next(2)\n",
    "    t.next(3)\n",
    "    t.complete()\n",
    "}.log()\n",
    "    .map { it * 10 }\n",
    "    .log()\n",
    "    .reduce(0) { t, u -> t + u }\n",
    "    .log()\n",
    "    .subscribe { println(it) }"
   ],
   "metadata": {
    "collapsed": false
   }
  }
 ],
 "metadata": {
  "kernelspec": {
   "display_name": "Kotlin",
   "language": "kotlin",
   "name": "kotlin"
  },
  "language_info": {
   "name": "kotlin",
   "version": "1.8.20",
   "mimetype": "text/x-kotlin",
   "file_extension": ".kt",
   "pygments_lexer": "kotlin",
   "codemirror_mode": "text/x-kotlin",
   "nbconvert_exporter": ""
  }
 },
 "nbformat": 4,
 "nbformat_minor": 0
}
