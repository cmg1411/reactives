{
 "cells": [
  {
   "cell_type": "code",
   "source": [
    "// pull 방식의 for-each\n",
    "val iter1 = object : Iterable<Int> {\n",
    "    override fun iterator(): Iterator<Int> {\n",
    "        return object : Iterator<Int> {\n",
    "            var i = 1\n",
    "\n",
    "            override fun hasNext(): Boolean { // data pull\n",
    "                return i <= 10\n",
    "            }\n",
    "\n",
    "            override fun next(): Int {\n",
    "                return i++\n",
    "            }\n",
    "        }\n",
    "    }\n",
    "}\n",
    "\n",
    "val iter2: () -> Iterator<Int> = fun(): Iterator<Int> { \n",
    "    return object : Iterator<Int> {\n",
    "        var i = 1\n",
    "        override fun hasNext() = i <= 10\n",
    "        override fun next() = i++\n",
    "    }\n",
    "}\n",
    "\n",
    "val iter3: () -> Iterator<Int> = { \n",
    "    object : Iterator<Int> {\n",
    "        var i = 1\n",
    "        override fun hasNext() = i <= 10\n",
    "        override fun next() = i++\n",
    "    }\n",
    "}\n",
    "\n",
    "for (i in iter1) print(i)\n",
    "for (i in iter2()) print(i)\n",
    "for (i in iter3()) print(i)"
   ],
   "metadata": {
    "collapsed": false,
    "ExecuteTime": {
     "end_time": "2025-06-10T11:38:30.440401Z",
     "start_time": "2025-06-10T11:38:28.463112Z"
    }
   },
   "outputs": [
    {
     "name": "stdout",
     "output_type": "stream",
     "text": [
      "123456789101234567891012345678910"
     ]
    }
   ],
   "execution_count": 1
  },
  {
   "cell_type": "code",
   "source": [
    "// push 방식의 Observer 패턴\n",
    "import java.util.Observable\n",
    "import java.util.Observer\n",
    "import java.util.concurrent.Executors\n",
    "\n",
    "// publisher\n",
    "class IntObservable : Observable(), Runnable {\n",
    "\n",
    "    override fun run() {\n",
    "        for (i in 1..10) {\n",
    "            println(\"[${Thread.currentThread().name}] Im observable. push $i\")\n",
    "            setChanged()\n",
    "            notifyObservers(i) // data push\n",
    "        }\n",
    "    }\n",
    "}\n",
    "\n",
    "// consumer\n",
    "val observer = object : Observer {\n",
    "    override fun update(o: Observable?, arg: Any?) {\n",
    "        println(\"[${Thread.currentThread().name}] Im observer. received $arg\")\n",
    "    }\n",
    "}\n",
    "\n",
    "val io = IntObservable()\n",
    "io.addObserver(observer)\n",
    "\n",
    "io.run()\n",
    "\n",
    "Executors.newSingleThreadExecutor().execute {  }\n",
    "\n",
    "//io.run() // 동기\n",
    "Executors.newSingleThreadExecutor().let {\n",
    "    it.execute(io); it.shutdown() } // 비동기\n",
    "\n",
    "println(\"[${Thread.currentThread()}] End.\")\n",
    "\n",
    "Thread.sleep(1000)"
   ],
   "metadata": {
    "collapsed": false,
    "ExecuteTime": {
     "end_time": "2025-06-10T11:38:38.341835Z",
     "start_time": "2025-06-10T11:38:35.487676Z"
    }
   },
   "outputs": [
    {
     "name": "stdout",
     "output_type": "stream",
     "text": [
      "[Execution of code '// push 방식의 Observer...'] Im observable. push 1\n",
      "[Execution of code '// push 방식의 Observer...'] Im observer. received 1\n",
      "[Execution of code '// push 방식의 Observer...'] Im observable. push 2\n",
      "[Execution of code '// push 방식의 Observer...'] Im observer. received 2\n",
      "[Execution of code '// push 방식의 Observer...'] Im observable. push 3\n",
      "[Execution of code '// push 방식의 Observer...'] Im observer. received 3\n",
      "[Execution of code '// push 방식의 Observer...'] Im observable. push 4\n",
      "[Execution of code '// push 방식의 Observer...'] Im observer. received 4\n",
      "[Execution of code '// push 방식의 Observer...'] Im observable. push 5\n",
      "[Execution of code '// push 방식의 Observer...'] Im observer. received 5\n",
      "[Execution of code '// push 방식의 Observer...'] Im observable. push 6\n",
      "[Execution of code '// push 방식의 Observer...'] Im observer. received 6\n",
      "[Execution of code '// push 방식의 Observer...'] Im observable. push 7\n",
      "[Execution of code '// push 방식의 Observer...'] Im observer. received 7\n",
      "[Execution of code '// push 방식의 Observer...'] Im observable. push 8\n",
      "[Execution of code '// push 방식의 Observer...'] Im observer. received 8\n",
      "[Execution of code '// push 방식의 Observer...'] Im observable. push 9\n",
      "[Execution of code '// push 방식의 Observer...'] Im observer. received 9\n",
      "[Execution of code '// push 방식의 Observer...'] Im observable. push 10\n",
      "[Execution of code '// push 방식의 Observer...'] Im observer. received 10\n",
      "[Thread[#22,Execution of code '// push 방식의 Observer...',5,main]] End.\n"
     ]
    }
   ],
   "execution_count": 2
  },
  {
   "cell_type": "code",
   "execution_count": 55,
   "outputs": [
    {
     "name": "stdout",
     "output_type": "stream",
     "text": [
      "[Thread[Execution of code '// push 방식의 pub-sub...',5,main]] onSubscribe\n",
      "[Thread[pool-24-thread-1,5,main]] onNext. 1\n",
      "[Thread[pool-24-thread-1,5,main]] onNext. 2\n",
      "[Thread[pool-24-thread-1,5,main]] onNext. 3\n",
      "[Thread[pool-24-thread-2,5,main]] onNext. 4\n",
      "[Thread[pool-24-thread-2,5,main]] onNext. 5\n",
      "[Thread[pool-24-thread-2,5,main]] onNext. 6\n",
      "[Thread[pool-24-thread-3,5,main]] onNext. 7\n",
      "[Thread[pool-24-thread-3,5,main]] onNext. 8\n",
      "[Thread[pool-24-thread-3,5,main]] onNext. 9\n",
      "[Thread[pool-24-thread-4,5,main]] onNext. 10\n",
      "[Thread[pool-24-thread-4,5,main]] onNext. 11\n",
      "[Thread[pool-24-thread-4,5,main]] onNext. 12\n",
      "[Thread[pool-24-thread-5,5,main]] onNext. 13\n",
      "[Thread[pool-24-thread-5,5,main]] onNext. 14\n",
      "[Thread[pool-24-thread-5,5,main]] onNext. 15\n",
      "[Thread[pool-24-thread-5,5,main]] onComplete\n"
     ]
    }
   ],
   "source": [
    "// push 방식의 pub-sub\n",
    "import java.util.concurrent.Flow.*\n",
    "import java.util.concurrent.TimeUnit\n",
    "\n",
    "/**\n",
    "* https://github.com/reactive-streams/reactive-streams-jvm/blob/v1.0.4/README.md#api-components\n",
    "* \n",
    "* publisher 에 subscriber 를 subscribe() 하는 순간 publisher 는 ?\n",
    "* 1. subscriber 의 onSubscribe() : 반드시 호출해야함.\n",
    "* 2. subscriber 의 onNext() : optional\n",
    "* 3. subscriber 의 onComplete(), onError() : optional 이나, 둘 중 하나만 호출.\n",
    "*/\n",
    "    \n",
    "\n",
    "val executor = Executors.newFixedThreadPool(5)\n",
    "val iterator = (1..15).iterator()\n",
    "\n",
    "val publisher = Publisher<Int> { subscriber ->\n",
    "    // subscribtion 이 현재는 publisher 안에 있어서 iterator 를 사용 가능하지만,\n",
    "    // 이후에 scheduler 를 사용하거나, custom Subscription 이 생성자로 subscriber 를 받도록 구현하게 될 것.\n",
    "    subscriber.onSubscribe(object: Subscription {\n",
    "        override fun request(n: Long) {\n",
    "            var loop = n\n",
    "\n",
    "            val future = executor.submit {\n",
    "                runCatching {\n",
    "                    while (loop-- > 0) {\n",
    "//                        throw IllegalArgumentException(\"에러 발생!!\") // onError 에 에러를 인자로 넣어서 준다.\n",
    "                        when {\n",
    "                            iterator.hasNext() -> subscriber.onNext(iterator.next())\n",
    "                            else -> subscriber.onComplete().also { loop = 0 }\n",
    "                        }\n",
    "                     }\n",
    "                }.getOrElse { subscriber.onError(it) }\n",
    "            }\n",
    "            \n",
    "//            future.cancel(false) // Future 객체를 사용하면 cancel 을 할 수 있음. \n",
    "        }\n",
    "\n",
    "        override fun cancel() {\n",
    "        }\n",
    "    })\n",
    "}\n",
    "\n",
    "\n",
    "/**\n",
    "* Subscription 의 request 를 언제 호출할지는 구현에 따라 다르다.\n",
    "* 1. subscriber 의 onSubscribe 에서 호출하면서 버퍼에 저장할 수 도 있고,\n",
    "* 2. onSubscribe 에서는 subsriber 의 맴버변수에 subscription 을 저장하고, onNext 에서 호출할 수도 있다.\n",
    "* 3. 또는 스케줄러도 쓰는 듯.(아직 모름)\n",
    "*/\n",
    "val subscriber = object: Subscriber<Int> {\n",
    "    private lateinit var subscription: Subscription\n",
    "    private var initBufferSize = 3\n",
    "    private var bufferSize = initBufferSize\n",
    "    \n",
    "    override fun onSubscribe(subscription: Subscription) {\n",
    "        println(\"[${Thread.currentThread()}] onSubscribe\")\n",
    "        this.subscription = subscription\n",
    "        subscription.request(bufferSize.toLong())\n",
    "    }\n",
    "\n",
    "    override fun onNext(data: Int) { // 데이터를 받는 메서드.\n",
    "        println(\"[${Thread.currentThread()}] onNext. $data\")\n",
    "        // 사용자가 구현할 버퍼의 구현에 따라 request 갯수를 조절하는 컨셉.\n",
    "        if (--bufferSize <= 0) { // 보통은 버퍼를 절반으로 유지.\n",
    "            bufferSize = initBufferSize\n",
    "            subscription.request(bufferSize.toLong())\n",
    "        }\n",
    "    }\n",
    "    \n",
    "    override fun onComplete() = println(\"[${Thread.currentThread()}] onComplete\")\n",
    "    override fun onError(throwable: Throwable) = println(\"[${Thread.currentThread()}] onError. ${throwable.message}\")\n",
    "}\n",
    "\n",
    "publisher.subscribe(subscriber)\n",
    "\n",
    "executor.awaitTermination(1000, TimeUnit.MILLISECONDS)\n",
    "executor.shutdown()"
   ],
   "metadata": {
    "collapsed": false,
    "ExecuteTime": {
     "end_time": "2023-09-17T11:17:39.648641Z",
     "start_time": "2023-09-17T11:17:38.535146Z"
    }
   }
  },
  {
   "cell_type": "code",
   "execution_count": 56,
   "outputs": [],
   "source": [
    "// publisher 가 subscriber 로 데이터를 날리는건 한 스레드에서 날림이 보장되는 스펙\n",
    "// subscription 의 request 함수 n 개는 한개의 스레드에서 sequential 하게 호출되는 스펙\n",
    "// subscription.request(n) 의 n 을 3으로 하고, publisher 의 publish 를 ExecutorService 를 이용해서 했을때 \n",
    "// 아래와 같이 3개씩은 같은 스레드임이 보장됨을 볼 수 있다.\n",
    "\n",
    "/*\n",
    "[Thread[Execution of code 'import java.util.con...',5,main]] onSubscribe\n",
    "[Thread[pool-22-thread-1,5,main]] onNext. 1\n",
    "[Thread[pool-22-thread-1,5,main]] onNext. 2\n",
    "[Thread[pool-22-thread-1,5,main]] onNext. 3\n",
    "[Thread[pool-22-thread-2,5,main]] onNext. 4\n",
    "[Thread[pool-22-thread-2,5,main]] onNext. 5\n",
    "[Thread[pool-22-thread-2,5,main]] onNext. 6\n",
    "[Thread[pool-22-thread-3,5,main]] onNext. 7\n",
    "[Thread[pool-22-thread-3,5,main]] onNext. 8\n",
    "[Thread[pool-22-thread-3,5,main]] onNext. 9\n",
    "[Thread[pool-22-thread-4,5,main]] onNext. 10\n",
    "[Thread[pool-22-thread-4,5,main]] onNext. 11\n",
    "[Thread[pool-22-thread-4,5,main]] onNext. 12\n",
    "[Thread[pool-22-thread-5,5,main]] onNext. 13\n",
    "[Thread[pool-22-thread-5,5,main]] onNext. 14\n",
    "[Thread[pool-22-thread-5,5,main]] onNext. 15\n",
    "[Thread[pool-22-thread-5,5,main]] onComplete\n",
    " */"
   ],
   "metadata": {
    "collapsed": false,
    "ExecuteTime": {
     "end_time": "2023-09-17T11:17:39.663117Z",
     "start_time": "2023-09-17T11:17:39.647825Z"
    }
   }
  },
  {
   "cell_type": "code",
   "execution_count": null,
   "outputs": [],
   "source": [],
   "metadata": {
    "collapsed": false
   }
  }
 ],
 "metadata": {
  "kernelspec": {
   "display_name": "Kotlin",
   "language": "kotlin",
   "name": "kotlin"
  },
  "language_info": {
   "name": "kotlin",
   "version": "1.9.0",
   "mimetype": "text/x-kotlin",
   "file_extension": ".kt",
   "pygments_lexer": "kotlin",
   "codemirror_mode": "text/x-kotlin",
   "nbconvert_exporter": ""
  }
 },
 "nbformat": 4,
 "nbformat_minor": 0
}
